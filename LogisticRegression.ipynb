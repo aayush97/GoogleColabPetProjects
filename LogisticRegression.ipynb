{
  "nbformat": 4,
  "nbformat_minor": 0,
  "metadata": {
    "colab": {
      "name": "LogisticRegression.ipynb",
      "version": "0.3.2",
      "provenance": [],
      "include_colab_link": true
    },
    "kernelspec": {
      "name": "python3",
      "display_name": "Python 3"
    }
  },
  "cells": [
    {
      "cell_type": "markdown",
      "metadata": {
        "id": "view-in-github",
        "colab_type": "text"
      },
      "source": [
        "<a href=\"https://colab.research.google.com/github/aayush97/GoogleColabPetProjects/blob/master/LogisticRegression.ipynb\" target=\"_parent\"><img src=\"https://colab.research.google.com/assets/colab-badge.svg\" alt=\"Open In Colab\"/></a>"
      ]
    },
    {
      "cell_type": "markdown",
      "metadata": {
        "id": "q6F-QTVUF1Ih",
        "colab_type": "text"
      },
      "source": [
        "#Logistic Regression"
      ]
    },
    {
      "cell_type": "code",
      "metadata": {
        "id": "9WgOqnxPrZ-y",
        "colab_type": "code",
        "cellView": "form",
        "colab": {}
      },
      "source": [
        "#@title\n",
        "# execute this block when running on google colab\n",
        "!apt-get install openjdk-8-jdk\n",
        "!wget https://www-us.apache.org/dist/spark/spark-2.4.3/spark-2.4.3-bin-hadoop2.7.tgz \n",
        "!tar xf spark-2.4.3-bin-hadoop2.7.tgz\n",
        "!pip install findspark\n",
        "!pip install handyspark\n",
        "import os\n",
        "os.environ[\"JAVA_HOME\"] = \"/usr/lib/jvm/java-8-openjdk-amd64\"\n",
        "os.environ[\"SPARK_HOME\"] = \"/content/spark-2.4.3-bin-hadoop2.7\"\n",
        "from google.colab import drive\n",
        "drive.mount('/content/drive')\n",
        "# uncomment the line below if you are running the code on a new drive\n",
        "# !git clone https://github.com/atosh502/smarter-healthcare.git\n",
        "%cd /content/drive/My Drive/smarter-healthcare"
      ],
      "execution_count": 0,
      "outputs": []
    },
    {
      "cell_type": "markdown",
      "metadata": {
        "id": "wdWMGtmiF-dd",
        "colab_type": "text"
      },
      "source": [
        "##Import and initialize"
      ]
    },
    {
      "cell_type": "code",
      "metadata": {
        "id": "CBSI8o76MHzz",
        "colab_type": "code",
        "colab": {}
      },
      "source": [
        "import handyspark\n",
        "import findspark\n",
        "findspark.init()\n",
        "from pyspark import SparkContext, SparkConf\n",
        "sc = SparkContext(master=\"local[4]\")"
      ],
      "execution_count": 0,
      "outputs": []
    },
    {
      "cell_type": "code",
      "metadata": {
        "id": "hKeexGAFJFQj",
        "colab_type": "code",
        "colab": {}
      },
      "source": [
        "from pyspark.sql import SparkSession\n",
        "import pyspark.sql.functions as F\n",
        "import matplotlib.pyplot as plt\n",
        "from pyspark.sql.types import *\n",
        "from pyspark.ml.classification import LogisticRegression, LogisticRegressionTrainingSummary, LogisticRegressionModel, LogisticRegressionSummary\n",
        "from pyspark.ml.feature import VectorAssembler\n",
        "from pyspark.ml.linalg import Vectors\n",
        "spark = SparkSession.builder.getOrCreate()"
      ],
      "execution_count": 0,
      "outputs": []
    },
    {
      "cell_type": "markdown",
      "metadata": {
        "id": "iWV80kaYGNzi",
        "colab_type": "text"
      },
      "source": [
        "##Method definitions"
      ]
    },
    {
      "cell_type": "code",
      "metadata": {
        "id": "CYA82MdxIWLa",
        "colab_type": "code",
        "colab": {}
      },
      "source": [
        "def prepare_data(dataset, feature_cols, label):\n",
        "  assembler = VectorAssembler(inputCols=feature_cols,outputCol='features')\n",
        "  data = assembler.transform(dataset)\n",
        "  return data.select(label,\"features\")"
      ],
      "execution_count": 0,
      "outputs": []
    },
    {
      "cell_type": "code",
      "metadata": {
        "id": "QMxvB8MnGdbO",
        "colab_type": "code",
        "colab": {}
      },
      "source": [
        "def fit_and_predict(training, testing):\n",
        "  lr = LogisticRegression(maxIter=10,regParam=.1,featuresCol=\"features\",labelCol=\"readmitted\")\n",
        "  model = lr.fit(training)\n",
        "  return lr,model, model.transform(testing)"
      ],
      "execution_count": 0,
      "outputs": []
    },
    {
      "cell_type": "code",
      "metadata": {
        "id": "eCR_6ooVp6oJ",
        "colab_type": "code",
        "colab": {}
      },
      "source": [
        "def coefficients_and_intercepts(model):\n",
        "  return str(model.coefficientMatrix), str(model.interceptVector)"
      ],
      "execution_count": 0,
      "outputs": []
    },
    {
      "cell_type": "code",
      "metadata": {
        "id": "xGnd9IH0lv4D",
        "colab_type": "code",
        "colab": {}
      },
      "source": [
        "def accuracy(predictions):\n",
        "  correct_predictions = predictions.select(\"*\").where(predictions['readmitted']==predictions['prediction'])\n",
        "  return correct_predictions.count()/predictions.count()"
      ],
      "execution_count": 0,
      "outputs": []
    },
    {
      "cell_type": "markdown",
      "metadata": {
        "id": "pbA-_vJ0GTwf",
        "colab_type": "text"
      },
      "source": [
        "##Load dataset"
      ]
    },
    {
      "cell_type": "code",
      "metadata": {
        "id": "yoq_1ogFpdcz",
        "colab_type": "code",
        "colab": {}
      },
      "source": [
        "#load dataset\n",
        "dataset_path = \"./parquet_files/dataset.parquet\"\n",
        "dataset = spark.read.parquet(dataset_path)\n",
        "full_features = dataset.drop('readmitted').columns\n",
        "label = 'readmitted'"
      ],
      "execution_count": 0,
      "outputs": []
    },
    {
      "cell_type": "markdown",
      "metadata": {
        "id": "KipM7LQjGW_Z",
        "colab_type": "text"
      },
      "source": [
        "##Prune features\n",
        "Determine best set of attributes by pruning attributes greedily if it increases classification accuracy.\n",
        "However, a better alternative would be to use best 10 attributes determined by gini-index (top 10 attributes from decision tree)"
      ]
    },
    {
      "cell_type": "code",
      "metadata": {
        "id": "FRgj-Nmwr0F5",
        "colab_type": "code",
        "colab": {}
      },
      "source": [
        "feature_set = full_features\n",
        "data = prepare_data(dataset, feature_set, label)\n",
        "training, testing = data.randomSplit([.7,.3])\n",
        "_,_,predictions = fit_and_predict(training, testing)\n",
        "best_accuracy_till_now = accuracy(predictions)\n",
        "for item in full_features:\n",
        "  temp_feature_set = feature_set.copy()\n",
        "  temp_feature_set.remove(item)\n",
        "  data = prepare_data(dataset, temp_feature_set, label)\n",
        "  training, testing = data.randomSplit([.7,.3])\n",
        "  _,_,predictions = fit_and_predict(training, testing)\n",
        "  acc = accuracy(predictions)\n",
        "  if(acc>best_accuracy_till_now):\n",
        "    best_accuracy_till_now = acc\n",
        "    feature_set = temp_feature_set.copy()"
      ],
      "execution_count": 0,
      "outputs": []
    },
    {
      "cell_type": "markdown",
      "metadata": {
        "id": "ntbXxtG_Gzm3",
        "colab_type": "text"
      },
      "source": [
        "##Evaluate model\n"
      ]
    },
    {
      "cell_type": "code",
      "metadata": {
        "id": "CMahlg0tLhTi",
        "colab_type": "code",
        "colab": {
          "base_uri": "https://localhost:8080/",
          "height": 119
        },
        "outputId": "23ba37e8-e35c-42ea-f63f-8e57983ce569"
      },
      "source": [
        "# accuray after pruning\n",
        "print(\"After pruning:\")\n",
        "full_features = dataset.drop('readmitted').columns\n",
        "print(\"length of feature set: \",len(feature_set))\n",
        "print(\"accuracy: \", best_accuracy_till_now)\n",
        "\n",
        "# accuracy before pruning\n",
        "data = prepare_data(dataset, full_features, label)\n",
        "training, testing = data.randomSplit([.7,.3])\n",
        "_,_,predictions = fit_and_predict(training, testing)\n",
        "print(\"Before pruning:\")\n",
        "print(\"length of feature set: \", len(full_features))\n",
        "print(\"accuracy: \", accuracy(predictions))"
      ],
      "execution_count": 10,
      "outputs": [
        {
          "output_type": "stream",
          "text": [
            "After pruning:\n",
            "length of feature set:  127\n",
            "accuracy:  0.6203073993471164\n",
            "Before pruning:\n",
            "length of feature set:  130\n",
            "accuracy:  0.6152175388583452\n"
          ],
          "name": "stdout"
        }
      ]
    },
    {
      "cell_type": "code",
      "metadata": {
        "id": "jLKce0HV_jIl",
        "colab_type": "code",
        "colab": {
          "base_uri": "https://localhost:8080/",
          "height": 34
        },
        "outputId": "61ff8719-b981-4ac7-a60d-9b7f07835213"
      },
      "source": [
        "print(\"Attributes dropped: \", set(full_features)-set(feature_set))"
      ],
      "execution_count": 11,
      "outputs": [
        {
          "output_type": "stream",
          "text": [
            "Attributes dropped:  {'age_[30-40]', 'metformin_Steady', 'num_lab_procedures'}\n"
          ],
          "name": "stdout"
        }
      ]
    },
    {
      "cell_type": "markdown",
      "metadata": {
        "id": "gBcRsVngStf0",
        "colab_type": "text"
      },
      "source": [
        "## Analysis\n",
        "Logistic regression is a very simple model with a single input and output layer and no hidden layers. From the cell right below we can see that, the model predicts well even in the presence of noise, when one of the attributes perfectly determines the output. However, if there is no perfect correlation, noise largely affects the classification.\n",
        "\n",
        "<img src=\"https://sebastianraschka.com/images/faq/logisticregr-neuralnet/schematic.png\">\n"
      ]
    },
    {
      "cell_type": "code",
      "metadata": {
        "id": "moPldDSBTR_X",
        "colab_type": "code",
        "colab": {
          "base_uri": "https://localhost:8080/",
          "height": 34
        },
        "outputId": "6b34acec-3c8b-465a-b9d9-c3875c4779be"
      },
      "source": [
        "# testing if the classifier performs well when one of the items in the feature set is the label itsef\n",
        "features_with_label = dataset.columns\n",
        "data = prepare_data(dataset,features_with_label, label)\n",
        "training, testing = data.randomSplit([.7, .3])\n",
        "_,_,predictions = fit_and_predict(training, testing)\n",
        "print(accuracy(predictions))"
      ],
      "execution_count": 12,
      "outputs": [
        {
          "output_type": "stream",
          "text": [
            "0.9994603163895166\n"
          ],
          "name": "stdout"
        }
      ]
    },
    {
      "cell_type": "markdown",
      "metadata": {
        "id": "_N8iYskMHcFQ",
        "colab_type": "text"
      },
      "source": [
        "##ROC, PRC and Confusion Matrix"
      ]
    },
    {
      "cell_type": "code",
      "metadata": {
        "id": "5W297IfNoOzP",
        "colab_type": "code",
        "colab": {}
      },
      "source": [
        "data = prepare_data(dataset, feature_set, label)\n",
        "training, testing = data.randomSplit([.7,.3])\n",
        "lr, model, predictions = fit_and_predict(training, testing)\n",
        "bcm = handyspark.BinaryClassificationMetrics(predictions, scoreCol='probability', labelCol='readmitted')"
      ],
      "execution_count": 0,
      "outputs": []
    },
    {
      "cell_type": "code",
      "metadata": {
        "id": "HFoW9f9tqWS1",
        "colab_type": "code",
        "colab": {
          "base_uri": "https://localhost:8080/",
          "height": 312
        },
        "outputId": "b31a3454-62a8-4436-bf00-f42dca7f44d0"
      },
      "source": [
        "fig, axs = plt.subplots(1, 2, figsize=(12, 4))\n",
        "bcm.plot_roc_curve(ax=axs[0])\n",
        "bcm.plot_pr_curve(ax=axs[1])"
      ],
      "execution_count": 14,
      "outputs": [
        {
          "output_type": "execute_result",
          "data": {
            "text/plain": [
              "<matplotlib.axes._subplots.AxesSubplot at 0x7f34fbc49d30>"
            ]
          },
          "metadata": {
            "tags": []
          },
          "execution_count": 14
        },
        {
          "output_type": "display_data",
          "data": {
            "image/png": "[encoded data removed]",
            "text/plain": [
              "<Figure size 864x288 with 2 Axes>"
            ]
          },
          "metadata": {
            "tags": []
          }
        }
      ]
    },
    {
      "cell_type": "code",
      "metadata": {
        "id": "mIVAWHehsu6g",
        "colab_type": "code",
        "colab": {
          "base_uri": "https://localhost:8080/",
          "height": 142
        },
        "outputId": "57c53ff4-6633-4db0-aa91-466253610c61"
      },
      "source": [
        "bcm.print_confusion_matrix(.5)"
      ],
      "execution_count": 15,
      "outputs": [
        {
          "output_type": "execute_result",
          "data": {
            "text/html": [
              "<div>\n",
              "<style scoped>\n",
              "    .dataframe tbody tr th:only-of-type {\n",
              "        vertical-align: middle;\n",
              "    }\n",
              "\n",
              "    .dataframe tbody tr th {\n",
              "        vertical-align: top;\n",
              "    }\n",
              "\n",
              "    .dataframe thead tr th {\n",
              "        text-align: left;\n",
              "    }\n",
              "</style>\n",
              "<table border=\"1\" class=\"dataframe\">\n",
              "  <thead>\n",
              "    <tr>\n",
              "      <th></th>\n",
              "      <th></th>\n",
              "      <th colspan=\"2\" halign=\"left\">Predicted</th>\n",
              "    </tr>\n",
              "    <tr>\n",
              "      <th></th>\n",
              "      <th></th>\n",
              "      <th>0</th>\n",
              "      <th>1</th>\n",
              "    </tr>\n",
              "  </thead>\n",
              "  <tbody>\n",
              "    <tr>\n",
              "      <th rowspan=\"2\" valign=\"top\">Actual</th>\n",
              "      <th>0</th>\n",
              "      <td>12233.0</td>\n",
              "      <td>3402.0</td>\n",
              "    </tr>\n",
              "    <tr>\n",
              "      <th>1</th>\n",
              "      <td>7873.0</td>\n",
              "      <td>5801.0</td>\n",
              "    </tr>\n",
              "  </tbody>\n",
              "</table>\n",
              "</div>"
            ],
            "text/plain": [
              "         Predicted        \n",
              "                 0       1\n",
              "Actual 0   12233.0  3402.0\n",
              "       1    7873.0  5801.0"
            ]
          },
          "metadata": {
            "tags": []
          },
          "execution_count": 15
        }
      ]
    },
    {
      "cell_type": "markdown",
      "metadata": {
        "id": "T6YE7RocHVkF",
        "colab_type": "text"
      },
      "source": [
        "#next steps\n",
        "1. take only 10 best features determined using gini index. (this features can be obtained from the output of decision-tree classifier) \n",
        "2. use the above used greedy approach to further prune from the 10 best features\n",
        "3. perform significance test on accuracy of present result and the result after performing steps 1 and 2.\n",
        "4. compare with outputs of decision tree and random forest."
      ]
    }
  ]
}