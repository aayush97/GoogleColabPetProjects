{
  "nbformat": 4,
  "nbformat_minor": 0,
  "metadata": {
    "colab": {
      "name": "Classification on a CIFAR 10 dataset.ipynb",
      "version": "0.3.2",
      "provenance": [],
      "include_colab_link": true
    },
    "kernelspec": {
      "name": "python3",
      "display_name": "Python 3"
    }
  },
  "cells": [
    {
      "cell_type": "markdown",
      "metadata": {
        "id": "view-in-github",
        "colab_type": "text"
      },
      "source": [
        "<a href=\"https://colab.research.google.com/github/aayush97/GoogleColabPetProjects/blob/master/Classification_on_a_CIFAR_10_dataset.ipynb\" target=\"_parent\"><img src=\"https://colab.research.google.com/assets/colab-badge.svg\" alt=\"Open In Colab\"/></a>"
      ]
    },
    {
      "cell_type": "code",
      "metadata": {
        "id": "mnIsQjhIt2kg",
        "colab_type": "code",
        "colab": {}
      },
      "source": [
        "import torch\n",
        "import torch.nn as nn\n",
        "import torch.nn.functional as F\n",
        "from skimage import io, transform\n",
        "import pandas"
      ],
      "execution_count": 0,
      "outputs": []
    },
    {
      "cell_type": "code",
      "metadata": {
        "id": "wYSB9-GoAV-2",
        "colab_type": "code",
        "colab": {}
      },
      "source": [
        "class Net(nn.Module):\n",
        "  def __init__(self):\n",
        "    super(Net,self).__init__()\n",
        "    self.conv1 = nn.Conv2d(3,10,3,2) # 3 input channels RGB, 10 output channels, 3x3 kernel, valid convolution\n",
        "    self.d1 = nn.Dropout2d(p=.2)\n",
        "    self.conv2 = nn.Conv2d(10,20,5,2) # 10 input channels, 20 output channels, 5x5 kernel, stride=2\n",
        "    self.d2 = nn.Dropout2d(p=.2)\n",
        "    # 13x13x20\n",
        "    self.fc1 = nn.Linear(6*6*20, 120)\n",
        "    self.d3 = nn.Dropout(p=.5)\n",
        "    self.fc2 = nn.Linear(120,80)\n",
        "    self.fc3 = nn.Linear(80,10)\n",
        "    \n",
        "  def forward(self, x):\n",
        "    x = F.relu(self.conv1(x))\n",
        "    x = self.d1(x)\n",
        "    x = F.relu(self.conv2(x))\n",
        "    x = self.d2(x)\n",
        "    # reshape x\n",
        "    x=x.view(-1,self.num_flat_features(x))\n",
        "    x = F.relu(self.fc1(x))\n",
        "    x = self.d3(x)\n",
        "    x = F.relu(self.fc2(x))\n",
        "    x = self.fc3(x)\n",
        "    return x\n",
        "  \n",
        "  def num_flat_features(self,x):\n",
        "    size = x.size()[1:]\n",
        "    retVal=1\n",
        "    for s in size:\n",
        "      retVal*=s\n",
        "    return retVal\n",
        "\n",
        "# class Net(nn.Module):\n",
        "#     def __init__(self):\n",
        "#         super(Net, self).__init__()\n",
        "#         self.conv1 = nn.Conv2d(3, 6, 5)\n",
        "#         self.pool = nn.MaxPool2d(2, 2)\n",
        "#         self.conv2 = nn.Conv2d(6, 16, 5)\n",
        "#         self.fc1 = nn.Linear(16 * 5 * 5, 120)\n",
        "#         self.fc2 = nn.Linear(120, 84)\n",
        "#         self.fc3 = nn.Linear(84, 10)\n",
        "\n",
        "#     def forward(self, x):\n",
        "#         x = self.pool(F.relu(self.conv1(x)))\n",
        "#         x = self.pool(F.relu(self.conv2(x)))\n",
        "#         x = x.view(-1, 16 * 5 * 5)\n",
        "#         x = F.relu(self.fc1(x))\n",
        "#         x = F.relu(self.fc2(x))\n",
        "#         x = self.fc3(x)\n",
        "#         return x\n"
      ],
      "execution_count": 0,
      "outputs": []
    },
    {
      "cell_type": "code",
      "metadata": {
        "id": "TylbLQOuI7GS",
        "colab_type": "code",
        "outputId": "67e7d897-dbd8-4e5c-f03e-9850ee78d053",
        "colab": {
          "base_uri": "https://localhost:8080/",
          "height": 187
        }
      },
      "source": [
        "net = Net()\n",
        "print(net)"
      ],
      "execution_count": 0,
      "outputs": [
        {
          "output_type": "stream",
          "text": [
            "Net(\n",
            "  (conv1): Conv2d(3, 10, kernel_size=(3, 3), stride=(2, 2))\n",
            "  (d1): Dropout2d(p=0.2)\n",
            "  (conv2): Conv2d(10, 20, kernel_size=(5, 5), stride=(2, 2))\n",
            "  (d2): Dropout2d(p=0.2)\n",
            "  (fc1): Linear(in_features=720, out_features=120, bias=True)\n",
            "  (d3): Dropout(p=0.5)\n",
            "  (fc2): Linear(in_features=120, out_features=80, bias=True)\n",
            "  (fc3): Linear(in_features=80, out_features=10, bias=True)\n",
            ")\n"
          ],
          "name": "stdout"
        }
      ]
    },
    {
      "cell_type": "code",
      "metadata": {
        "id": "U5oEIFc0I-bN",
        "colab_type": "code",
        "colab": {}
      },
      "source": [
        "# load_dataset #CIFAR 10\n",
        "def unpickle(file):\n",
        "    import pickle\n",
        "    with open(file, 'rb') as fo:\n",
        "        dict = pickle.load(fo, encoding='bytes')\n",
        "    return dict"
      ],
      "execution_count": 0,
      "outputs": []
    },
    {
      "cell_type": "code",
      "metadata": {
        "id": "5lhD-v1-MbD6",
        "colab_type": "code",
        "outputId": "2da00524-ac9a-42d7-aa2a-da87c89bfb42",
        "colab": {
          "base_uri": "https://localhost:8080/",
          "height": 122
        }
      },
      "source": [
        "# mount drive\n",
        "from google.colab import drive\n",
        "drive.mount('/content/gdrive')"
      ],
      "execution_count": 0,
      "outputs": [
        {
          "output_type": "stream",
          "text": [
            "Go to this URL in a browser: https://accounts.google.com/o/oauth2/auth?client_id=947318989803-6bn6qk8qdgf4n4g3pfee6491hc0brc4i.apps.googleusercontent.com&redirect_uri=urn%3Aietf%3Awg%3Aoauth%3A2.0%3Aoob&scope=email%20https%3A%2F%2Fwww.googleapis.com%2Fauth%2Fdocs.test%20https%3A%2F%2Fwww.googleapis.com%2Fauth%2Fdrive%20https%3A%2F%2Fwww.googleapis.com%2Fauth%2Fdrive.photos.readonly%20https%3A%2F%2Fwww.googleapis.com%2Fauth%2Fpeopleapi.readonly&response_type=code\n",
            "\n",
            "Enter your authorization code:\n",
            "··········\n",
            "Mounted at /content/gdrive\n"
          ],
          "name": "stdout"
        }
      ]
    },
    {
      "cell_type": "code",
      "metadata": {
        "id": "KW6H37RKMygt",
        "colab_type": "code",
        "colab": {}
      },
      "source": [
        "PATH = '/content/gdrive/My Drive/'\n",
        "x_train =  torch.tensor(1)\n",
        "y_train = torch.tensor(1)"
      ],
      "execution_count": 0,
      "outputs": []
    },
    {
      "cell_type": "code",
      "metadata": {
        "id": "X8ateR7SYBT2",
        "colab_type": "code",
        "colab": {}
      },
      "source": [
        "# get images from CIFAR dataset\n",
        "for i in range(5):  \n",
        "  dataset =  unpickle(PATH+'cifar-10-python/cifar-10-batches-py/data_batch_'+str(i+1))\n",
        "  datan = dataset[b'data']\n",
        "  labels = dataset[b'labels']\n",
        "  labels = torch.LongTensor(labels)\n",
        "  labels = labels.view(1,10000)\n",
        "  data = torch.from_numpy(datan)\n",
        "  data = data.view(1,10000,3,32,32)\n",
        "  data = data.float()\n",
        "  if(i==0):\n",
        "    x_train = data\n",
        "    y_train = labels\n",
        "  else:\n",
        "    x_train = torch.cat((x_train,data),0)\n",
        "    y_train = torch.cat((y_train,labels),0)\n",
        "      "
      ],
      "execution_count": 0,
      "outputs": []
    },
    {
      "cell_type": "code",
      "metadata": {
        "id": "5Vu1w1NSb1F2",
        "colab_type": "code",
        "colab": {}
      },
      "source": [
        "#testing dataset\n",
        "dataset =  unpickle(PATH+'cifar-10-python/cifar-10-batches-py/test_batch')\n",
        "datan = dataset[b'data']\n",
        "labels = dataset[b'labels']\n",
        "labels = torch.LongTensor(labels)\n",
        "labels = labels.view(1,10000)\n",
        "data = torch.from_numpy(datan)\n",
        "data = data.view(1,10000,3,32,32)\n",
        "data=data.float()\n",
        "x_test = data\n",
        "y_test = labels"
      ],
      "execution_count": 0,
      "outputs": []
    },
    {
      "cell_type": "code",
      "metadata": {
        "id": "tK5ZCeAXCubc",
        "colab_type": "code",
        "outputId": "49688b1d-5443-48cf-ac11-33b67457f354",
        "colab": {
          "base_uri": "https://localhost:8080/",
          "height": 527
        }
      },
      "source": [
        "import torch.optim as optim\n",
        "#Loss function\n",
        "criterion = nn.CrossEntropyLoss()\n",
        "optimizer = optim.Adam(net.parameters())\n",
        "#training\n",
        "epochs = 30\n",
        "for epoch in range(epochs):\n",
        "  for i in range(5):\n",
        "    optimizer.zero_grad()   # zero the gradient buffers\n",
        "    output = net(x_train[i])\n",
        "    loss = criterion(output, y_train[i])\n",
        "    loss.backward()\n",
        "    optimizer.step()\n",
        "  print(loss)\n"
      ],
      "execution_count": 0,
      "outputs": [
        {
          "output_type": "stream",
          "text": [
            "tensor(1.5682, grad_fn=<NllLossBackward>)\n",
            "tensor(1.5103, grad_fn=<NllLossBackward>)\n",
            "tensor(1.5142, grad_fn=<NllLossBackward>)\n",
            "tensor(1.4811, grad_fn=<NllLossBackward>)\n",
            "tensor(1.4565, grad_fn=<NllLossBackward>)\n",
            "tensor(1.4592, grad_fn=<NllLossBackward>)\n",
            "tensor(1.4639, grad_fn=<NllLossBackward>)\n",
            "tensor(1.4529, grad_fn=<NllLossBackward>)\n",
            "tensor(1.4449, grad_fn=<NllLossBackward>)\n",
            "tensor(1.4435, grad_fn=<NllLossBackward>)\n",
            "tensor(1.4307, grad_fn=<NllLossBackward>)\n",
            "tensor(1.4352, grad_fn=<NllLossBackward>)\n",
            "tensor(1.4213, grad_fn=<NllLossBackward>)\n",
            "tensor(1.4195, grad_fn=<NllLossBackward>)\n",
            "tensor(1.4293, grad_fn=<NllLossBackward>)\n",
            "tensor(1.4151, grad_fn=<NllLossBackward>)\n",
            "tensor(1.4259, grad_fn=<NllLossBackward>)\n",
            "tensor(1.4325, grad_fn=<NllLossBackward>)\n",
            "tensor(1.4152, grad_fn=<NllLossBackward>)\n",
            "tensor(1.4091, grad_fn=<NllLossBackward>)\n",
            "tensor(1.4021, grad_fn=<NllLossBackward>)\n",
            "tensor(1.3982, grad_fn=<NllLossBackward>)\n",
            "tensor(1.3876, grad_fn=<NllLossBackward>)\n",
            "tensor(1.3930, grad_fn=<NllLossBackward>)\n",
            "tensor(1.3902, grad_fn=<NllLossBackward>)\n",
            "tensor(1.3822, grad_fn=<NllLossBackward>)\n",
            "tensor(1.3798, grad_fn=<NllLossBackward>)\n",
            "tensor(1.3812, grad_fn=<NllLossBackward>)\n",
            "tensor(1.3849, grad_fn=<NllLossBackward>)\n",
            "tensor(1.3922, grad_fn=<NllLossBackward>)\n"
          ],
          "name": "stdout"
        }
      ]
    },
    {
      "cell_type": "code",
      "metadata": {
        "id": "owlHRo5mTQR_",
        "colab_type": "code",
        "outputId": "4a0ecc80-27de-4b06-de90-6edacccaba0d",
        "colab": {
          "base_uri": "https://localhost:8080/",
          "height": 34
        }
      },
      "source": [
        "#testing\n",
        "correct = 0\n",
        "total = 0\n",
        "with torch.no_grad():\n",
        "    output = net(x_test[0])\n",
        "    for i in range(output.shape[0]):\n",
        "      _,index = output[i].max(0)\n",
        "      if(y_test[0][i]==index):\n",
        "        correct+=1\n",
        "    total = output.shape[0]\n",
        "    \n",
        "print('Accuracy of the network on   the 10000 test images: %d %%' % (\n",
        "    100 * correct / total))"
      ],
      "execution_count": 0,
      "outputs": [
        {
          "output_type": "stream",
          "text": [
            "Accuracy of the network on   the 10000 test images: 57 %\n"
          ],
          "name": "stdout"
        }
      ]
    },
    {
      "cell_type": "code",
      "metadata": {
        "id": "0lz7o7HCbBD7",
        "colab_type": "code",
        "outputId": "38df50a9-39e4-483f-881c-98cca50342e0",
        "colab": {
          "base_uri": "https://localhost:8080/",
          "height": 187
        }
      },
      "source": [
        "net.d1.eval()\n",
        "net.d2.eval()\n",
        "net.d3.eval()\n",
        "print(net)"
      ],
      "execution_count": 0,
      "outputs": [
        {
          "output_type": "stream",
          "text": [
            "Net(\n",
            "  (conv1): Conv2d(3, 10, kernel_size=(3, 3), stride=(2, 2))\n",
            "  (d1): Dropout2d(p=0.2)\n",
            "  (conv2): Conv2d(10, 20, kernel_size=(5, 5), stride=(2, 2))\n",
            "  (d2): Dropout2d(p=0.2)\n",
            "  (fc1): Linear(in_features=720, out_features=120, bias=True)\n",
            "  (d3): Dropout(p=0.5)\n",
            "  (fc2): Linear(in_features=120, out_features=80, bias=True)\n",
            "  (fc3): Linear(in_features=80, out_features=10, bias=True)\n",
            ")\n"
          ],
          "name": "stdout"
        }
      ]
    },
    {
      "cell_type": "markdown",
      "metadata": {
        "id": "yIGa-IHIII5Q",
        "colab_type": "text"
      },
      "source": [
        "**Classify MNIST Handwritten digits using the same neural network architecture**"
      ]
    },
    {
      "cell_type": "code",
      "metadata": {
        "id": "sQ_oixcpITrk",
        "colab_type": "code",
        "colab": {}
      },
      "source": [
        "from pathlib import Path\n",
        "import requests"
      ],
      "execution_count": 0,
      "outputs": []
    },
    {
      "cell_type": "code",
      "metadata": {
        "id": "yLso3k4FIV_e",
        "colab_type": "code",
        "colab": {}
      },
      "source": [
        "DATA_PATH = Path(\"data\")\n",
        "PATH = DATA_PATH / \"mnist\"\n",
        "\n",
        "PATH.mkdir(parents=True, exist_ok=True)\n",
        "\n",
        "URL = \"http://deeplearning.net/data/mnist/\"\n",
        "FILENAME = \"mnist.pkl.gz\"\n",
        "\n",
        "if not (PATH / FILENAME).exists():\n",
        "        content = requests.get(URL + FILENAME).content\n",
        "        (PATH / FILENAME).open(\"wb\").write(content)"
      ],
      "execution_count": 0,
      "outputs": []
    },
    {
      "cell_type": "code",
      "metadata": {
        "id": "1UT-0zXNIYj6",
        "colab_type": "code",
        "colab": {}
      },
      "source": [
        "import pickle\n",
        "import gzip\n",
        "\n",
        "with gzip.open((PATH / FILENAME).as_posix(), \"rb\") as f:\n",
        "        ((x_train, y_train), (x_valid, y_valid), _) = pickle.load(f, encoding=\"latin-1\")"
      ],
      "execution_count": 0,
      "outputs": []
    },
    {
      "cell_type": "code",
      "metadata": {
        "id": "DMrPAeDNIcxa",
        "colab_type": "code",
        "outputId": "8d1a45c7-c327-4f19-ef5e-b43bec3eb92f",
        "colab": {
          "base_uri": "https://localhost:8080/",
          "height": 320
        }
      },
      "source": [
        "import torch\n",
        "x_train, y_train, x_valid, y_valid = map(\n",
        "    torch.tensor, (x_train, y_train, x_valid, y_valid)\n",
        ")\n",
        "print (x_train.shape)\n",
        "x_train = x_train.view(-1,28,28)\n",
        "x_t = torch.zeros([50000,32,32])\n",
        "print(x_t.shape)\n",
        "x_t[:,:28,:28] = x_train\n",
        "x_train = x_t\n",
        "from matplotlib import pyplot\n",
        "import numpy as np\n",
        "\n",
        "pyplot.imshow(x_train[0], cmap=\"gray\")"
      ],
      "execution_count": 0,
      "outputs": [
        {
          "output_type": "stream",
          "text": [
            "torch.Size([50000, 784])\n",
            "torch.Size([50000, 32, 32])\n"
          ],
          "name": "stdout"
        },
        {
          "output_type": "execute_result",
          "data": {
            "text/plain": [
              "<matplotlib.image.AxesImage at 0x7fe4c82180b8>"
            ]
          },
          "metadata": {
            "tags": []
          },
          "execution_count": 82
        },
        {
          "output_type": "display_data",
          "data": {
            "image/png": "[encoded data removed]",
            "text/plain": [
              "<Figure size 432x288 with 1 Axes>"
            ]
          },
          "metadata": {
            "tags": []
          }
        }
      ]
    },
    {
      "cell_type": "code",
      "metadata": {
        "id": "QF0nDUZLIgN-",
        "colab_type": "code",
        "outputId": "0439bdfa-8215-412a-bdc8-93b254a85072",
        "colab": {
          "base_uri": "https://localhost:8080/",
          "height": 320
        }
      },
      "source": [
        "\n",
        "print (x_valid.shape)\n",
        "x_valid = x_valid.view(-1,28,28)\n",
        "x_v = torch.zeros([10000,32,32])\n",
        "print(x_v.shape)\n",
        "x_v[:,:28,:28] = x_valid\n",
        "x_valid = x_v\n",
        "from matplotlib import pyplot\n",
        "import numpy as np\n",
        "\n",
        "pyplot.imshow(x_valid[0], cmap=\"gray\")"
      ],
      "execution_count": 0,
      "outputs": [
        {
          "output_type": "stream",
          "text": [
            "torch.Size([10000, 784])\n",
            "torch.Size([10000, 32, 32])\n"
          ],
          "name": "stdout"
        },
        {
          "output_type": "execute_result",
          "data": {
            "text/plain": [
              "<matplotlib.image.AxesImage at 0x7fe4c8183978>"
            ]
          },
          "metadata": {
            "tags": []
          },
          "execution_count": 84
        },
        {
          "output_type": "display_data",
          "data": {
            "image/png": "[encoded data removed]",
            "text/plain": [
              "<Figure size 432x288 with 1 Axes>"
            ]
          },
          "metadata": {
            "tags": []
          }
        }
      ]
    },
    {
      "cell_type": "code",
      "metadata": {
        "id": "K8fkZgmAOD3B",
        "colab_type": "code",
        "outputId": "9f35a89c-d1be-4018-ce75-5d2ea62c0851",
        "colab": {
          "base_uri": "https://localhost:8080/",
          "height": 136
        }
      },
      "source": [
        "class Net2(nn.Module):\n",
        "  \n",
        "  def __init__(self):\n",
        "    super(Net2,self).__init__()\n",
        "    self.conv1 = nn.Conv2d(1,6,5)\n",
        "    self.conv2 = nn.Conv2d(6,16,5)\n",
        "    self.fc1 = nn.Linear(16*5*5,120)\n",
        "    self.fc2 = nn.Linear(120,84)\n",
        "    self.fc3 = nn.Linear(84,10)\n",
        "    \n",
        "  def forward(self,x):\n",
        "    x = F.max_pool2d(F.relu(self.conv1(x)),2)\n",
        "    x = F.max_pool2d(F.relu(self.conv2(x)),2)\n",
        "    x = x.view(-1,self.num_flat_features(x))\n",
        "    x = F.relu(self.fc1(x))\n",
        "    x = F.relu(self.fc2(x))\n",
        "    x = self.fc3(x)\n",
        "    return x\n",
        "    \n",
        "  def num_flat_features(self,x):\n",
        "    size = x.size()[1:]\n",
        "    num_features = 1\n",
        "    for s in size:\n",
        "      num_features *= s\n",
        "    return num_features\n",
        "net2 = Net2()\n",
        "print(net2)"
      ],
      "execution_count": 0,
      "outputs": [
        {
          "output_type": "stream",
          "text": [
            "Net2(\n",
            "  (conv1): Conv2d(1, 6, kernel_size=(5, 5), stride=(1, 1))\n",
            "  (conv2): Conv2d(6, 16, kernel_size=(5, 5), stride=(1, 1))\n",
            "  (fc1): Linear(in_features=400, out_features=120, bias=True)\n",
            "  (fc2): Linear(in_features=120, out_features=84, bias=True)\n",
            "  (fc3): Linear(in_features=84, out_features=10, bias=True)\n",
            ")\n"
          ],
          "name": "stdout"
        }
      ]
    },
    {
      "cell_type": "code",
      "metadata": {
        "id": "Ms968d-cOU82",
        "colab_type": "code",
        "outputId": "c68acd74-04a3-4457-9cbf-e0b16d63d70f",
        "colab": {
          "base_uri": "https://localhost:8080/",
          "height": 102
        }
      },
      "source": [
        "#train net2\n",
        "criterion = nn.CrossEntropyLoss()\n",
        "optimizer = optim.Adam(net2.parameters())\n",
        "#training\n",
        "epochs = 5\n",
        "for epoch in range(epochs):\n",
        "  for i in range(500):\n",
        "    optimizer.zero_grad()   # zero the gradient buffers\n",
        "    output = net2(x_train[i*100:(i+1)*100].view(100,1,32,32))\n",
        "    loss = criterion(output, y_train[i*100:(i+1)*100])\n",
        "    loss.backward()\n",
        "    optimizer.step()\n",
        "  print(loss)"
      ],
      "execution_count": 0,
      "outputs": [
        {
          "output_type": "stream",
          "text": [
            "tensor(0.0514, grad_fn=<NllLossBackward>)\n",
            "tensor(0.0196, grad_fn=<NllLossBackward>)\n",
            "tensor(0.0280, grad_fn=<NllLossBackward>)\n",
            "tensor(0.0568, grad_fn=<NllLossBackward>)\n",
            "tensor(0.0483, grad_fn=<NllLossBackward>)\n"
          ],
          "name": "stdout"
        }
      ]
    },
    {
      "cell_type": "code",
      "metadata": {
        "id": "TOVLY2y_PrKz",
        "colab_type": "code",
        "outputId": "774d40fb-0653-43f3-a223-b895b8f980e6",
        "colab": {
          "base_uri": "https://localhost:8080/",
          "height": 34
        }
      },
      "source": [
        "#testing\n",
        "correct = 0\n",
        "total = 0\n",
        "with torch.no_grad():\n",
        "    output = net2(x_valid.view(-1,1,32,32))\n",
        "    for i in range(output.shape[0]):\n",
        "      _,index = output[i].max(0)\n",
        "      if(y_valid[i]==index):\n",
        "        correct+=1\n",
        "    total = output.shape[0]\n",
        "    \n",
        "print('Accuracy of the network on the', total ,'test images: %d %%' % (\n",
        "    100 * correct / total))"
      ],
      "execution_count": 0,
      "outputs": [
        {
          "output_type": "stream",
          "text": [
            "Accuracy of the network on the 10000 test images: 98 %\n"
          ],
          "name": "stdout"
        }
      ]
    },
    {
      "cell_type": "code",
      "metadata": {
        "id": "iyIbdXT9TXzb",
        "colab_type": "code",
        "colab": {}
      },
      "source": [
        ""
      ],
      "execution_count": 0,
      "outputs": []
    }
  ]
}